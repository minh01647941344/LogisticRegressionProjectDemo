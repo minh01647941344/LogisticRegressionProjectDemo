{
 "cells": [
  {
   "cell_type": "code",
   "execution_count": 8,
   "metadata": {},
   "outputs": [],
   "source": [
    "import pandas as pd\n",
    "import numpy as np"
   ]
  },
  {
   "cell_type": "code",
   "execution_count": 9,
   "metadata": {},
   "outputs": [],
   "source": [
    "import matplotlib.pyplot as plt\n",
    "import seaborn as sns\n",
    "%matplotlib inline"
   ]
  },
  {
   "cell_type": "code",
   "execution_count": 10,
   "metadata": {},
   "outputs": [],
   "source": [
    "file_errors_location = 'C:\\\\Users\\\\HELLO\\\\Downloads\\\\dataset_infoCV_values_xv.xlsx'\n",
    "df = pd.read_excel(file_errors_location)"
   ]
  },
  {
   "cell_type": "code",
   "execution_count": 11,
   "metadata": {},
   "outputs": [
    {
     "data": {
      "text/html": [
       "<div>\n",
       "<style scoped>\n",
       "    .dataframe tbody tr th:only-of-type {\n",
       "        vertical-align: middle;\n",
       "    }\n",
       "\n",
       "    .dataframe tbody tr th {\n",
       "        vertical-align: top;\n",
       "    }\n",
       "\n",
       "    .dataframe thead th {\n",
       "        text-align: right;\n",
       "    }\n",
       "</style>\n",
       "<table border=\"1\" class=\"dataframe\">\n",
       "  <thead>\n",
       "    <tr style=\"text-align: right;\">\n",
       "      <th></th>\n",
       "      <th>Full Name</th>\n",
       "      <th>Birthday</th>\n",
       "      <th>Address</th>\n",
       "      <th>Phone</th>\n",
       "      <th>Position</th>\n",
       "      <th>Year of experiences</th>\n",
       "      <th>Education</th>\n",
       "      <th>Number of certificates</th>\n",
       "      <th>Number of Projects</th>\n",
       "      <th>GPA</th>\n",
       "      <th>TOEIC/IELTS</th>\n",
       "      <th>Interview Result</th>\n",
       "      <th>Unnamed: 12</th>\n",
       "    </tr>\n",
       "  </thead>\n",
       "  <tbody>\n",
       "    <tr>\n",
       "      <th>0</th>\n",
       "      <td>Đỗ Thị Bích Sâm</td>\n",
       "      <td>1987</td>\n",
       "      <td>Hà Nội</td>\n",
       "      <td>913666692</td>\n",
       "      <td>Kĩ thuật viên vận hành thiết bị</td>\n",
       "      <td>1</td>\n",
       "      <td>Đại học Tôn Đức Thắng</td>\n",
       "      <td>0</td>\n",
       "      <td>2</td>\n",
       "      <td>3.743190</td>\n",
       "      <td>có</td>\n",
       "      <td>Fail</td>\n",
       "      <td>NaN</td>\n",
       "    </tr>\n",
       "    <tr>\n",
       "      <th>1</th>\n",
       "      <td>Ninh Văn Tú</td>\n",
       "      <td>1988</td>\n",
       "      <td>Bình Dương</td>\n",
       "      <td>913668905</td>\n",
       "      <td>Nhân viên tư vấn dịch vụ</td>\n",
       "      <td>3</td>\n",
       "      <td>Đại học Công nghệ thông tin</td>\n",
       "      <td>4</td>\n",
       "      <td>4</td>\n",
       "      <td>2.607947</td>\n",
       "      <td>có</td>\n",
       "      <td>Pass</td>\n",
       "      <td>NaN</td>\n",
       "    </tr>\n",
       "  </tbody>\n",
       "</table>\n",
       "</div>"
      ],
      "text/plain": [
       "         Full Name  Birthday     Address      Phone  \\\n",
       "0  Đỗ Thị Bích Sâm      1987      Hà Nội  913666692   \n",
       "1      Ninh Văn Tú      1988  Bình Dương  913668905   \n",
       "\n",
       "                          Position  Year of experiences  \\\n",
       "0  Kĩ thuật viên vận hành thiết bị                    1   \n",
       "1         Nhân viên tư vấn dịch vụ                    3   \n",
       "\n",
       "                     Education  Number of certificates  Number of Projects  \\\n",
       "0        Đại học Tôn Đức Thắng                       0                   2   \n",
       "1  Đại học Công nghệ thông tin                       4                   4   \n",
       "\n",
       "        GPA TOEIC/IELTS Interview Result Unnamed: 12  \n",
       "0  3.743190         có              Fail         NaN  \n",
       "1  2.607947         có              Pass         NaN  "
      ]
     },
     "execution_count": 11,
     "metadata": {},
     "output_type": "execute_result"
    }
   ],
   "source": [
    "sns.set_style('whitegrid')\n",
    "df.head(2)"
   ]
  },
  {
   "cell_type": "code",
   "execution_count": 12,
   "metadata": {},
   "outputs": [
    {
     "data": {
      "text/plain": [
       "<matplotlib.legend.Legend at 0x28f70bfcc50>"
      ]
     },
     "execution_count": 12,
     "metadata": {},
     "output_type": "execute_result"
    },
    {
     "data": {
      "image/png": "[encoded data removed]",
      "text/plain": [
       "<Figure size 432x288 with 1 Axes>"
      ]
     },
     "metadata": {},
     "output_type": "display_data"
    }
   ],
   "source": [
    "sns.countplot(data=df,x='Position',hue='Interview Result')\n",
    "plt.legend(bbox_to_anchor=(1.05, 1), loc=2, borderaxespad=0.)"
   ]
  },
  {
   "cell_type": "code",
   "execution_count": 13,
   "metadata": {},
   "outputs": [
    {
     "data": {
      "text/plain": [
       "<matplotlib.legend.Legend at 0x28f70567f28>"
      ]
     },
     "execution_count": 13,
     "metadata": {},
     "output_type": "execute_result"
    },
    {
     "data": {
      "image/png": "[encoded data removed]",
      "text/plain": [
       "<Figure size 432x288 with 1 Axes>"
      ]
     },
     "metadata": {},
     "output_type": "display_data"
    }
   ],
   "source": [
    "sns.countplot(data=df,x='Interview Result',hue='Position')\n",
    "plt.legend(bbox_to_anchor=(1.05, 1), loc=2, borderaxespad=0.)"
   ]
  },
  {
   "cell_type": "code",
   "execution_count": 14,
   "metadata": {},
   "outputs": [
    {
     "data": {
      "text/html": [
       "<div>\n",
       "<style scoped>\n",
       "    .dataframe tbody tr th:only-of-type {\n",
       "        vertical-align: middle;\n",
       "    }\n",
       "\n",
       "    .dataframe tbody tr th {\n",
       "        vertical-align: top;\n",
       "    }\n",
       "\n",
       "    .dataframe thead th {\n",
       "        text-align: right;\n",
       "    }\n",
       "</style>\n",
       "<table border=\"1\" class=\"dataframe\">\n",
       "  <thead>\n",
       "    <tr style=\"text-align: right;\">\n",
       "      <th></th>\n",
       "      <th>Position</th>\n",
       "      <th>Year of experiences</th>\n",
       "      <th>Education</th>\n",
       "      <th>Number of certificates</th>\n",
       "      <th>Number of Projects</th>\n",
       "      <th>GPA</th>\n",
       "      <th>TOEIC/IELTS</th>\n",
       "      <th>Interview Result</th>\n",
       "    </tr>\n",
       "  </thead>\n",
       "  <tbody>\n",
       "    <tr>\n",
       "      <th>0</th>\n",
       "      <td>Kĩ thuật viên vận hành thiết bị</td>\n",
       "      <td>1</td>\n",
       "      <td>Đại học Tôn Đức Thắng</td>\n",
       "      <td>0</td>\n",
       "      <td>2</td>\n",
       "      <td>3.743190</td>\n",
       "      <td>có</td>\n",
       "      <td>Fail</td>\n",
       "    </tr>\n",
       "    <tr>\n",
       "      <th>1</th>\n",
       "      <td>Nhân viên tư vấn dịch vụ</td>\n",
       "      <td>3</td>\n",
       "      <td>Đại học Công nghệ thông tin</td>\n",
       "      <td>4</td>\n",
       "      <td>4</td>\n",
       "      <td>2.607947</td>\n",
       "      <td>có</td>\n",
       "      <td>Pass</td>\n",
       "    </tr>\n",
       "  </tbody>\n",
       "</table>\n",
       "</div>"
      ],
      "text/plain": [
       "                          Position  Year of experiences  \\\n",
       "0  Kĩ thuật viên vận hành thiết bị                    1   \n",
       "1         Nhân viên tư vấn dịch vụ                    3   \n",
       "\n",
       "                     Education  Number of certificates  Number of Projects  \\\n",
       "0        Đại học Tôn Đức Thắng                       0                   2   \n",
       "1  Đại học Công nghệ thông tin                       4                   4   \n",
       "\n",
       "        GPA TOEIC/IELTS Interview Result  \n",
       "0  3.743190         có              Fail  \n",
       "1  2.607947         có              Pass  "
      ]
     },
     "execution_count": 14,
     "metadata": {},
     "output_type": "execute_result"
    }
   ],
   "source": [
    "df.drop(['Full Name','Birthday','Address','Phone','Unnamed: 12'],axis=1,inplace=True)\n",
    "df.head(2)"
   ]
  },
  {
   "cell_type": "code",
   "execution_count": 15,
   "metadata": {},
   "outputs": [
    {
     "data": {
      "text/html": [
       "<div>\n",
       "<style scoped>\n",
       "    .dataframe tbody tr th:only-of-type {\n",
       "        vertical-align: middle;\n",
       "    }\n",
       "\n",
       "    .dataframe tbody tr th {\n",
       "        vertical-align: top;\n",
       "    }\n",
       "\n",
       "    .dataframe thead th {\n",
       "        text-align: right;\n",
       "    }\n",
       "</style>\n",
       "<table border=\"1\" class=\"dataframe\">\n",
       "  <thead>\n",
       "    <tr style=\"text-align: right;\">\n",
       "      <th></th>\n",
       "      <th>có</th>\n",
       "    </tr>\n",
       "  </thead>\n",
       "  <tbody>\n",
       "    <tr>\n",
       "      <th>0</th>\n",
       "      <td>1</td>\n",
       "    </tr>\n",
       "    <tr>\n",
       "      <th>1</th>\n",
       "      <td>1</td>\n",
       "    </tr>\n",
       "    <tr>\n",
       "      <th>2</th>\n",
       "      <td>1</td>\n",
       "    </tr>\n",
       "    <tr>\n",
       "      <th>3</th>\n",
       "      <td>1</td>\n",
       "    </tr>\n",
       "    <tr>\n",
       "      <th>4</th>\n",
       "      <td>0</td>\n",
       "    </tr>\n",
       "  </tbody>\n",
       "</table>\n",
       "</div>"
      ],
      "text/plain": [
       "   có \n",
       "0    1\n",
       "1    1\n",
       "2    1\n",
       "3    1\n",
       "4    0"
      ]
     },
     "execution_count": 15,
     "metadata": {},
     "output_type": "execute_result"
    }
   ],
   "source": [
    "EnglishCertificate = pd.get_dummies(df['TOEIC/IELTS'])\n",
    "EnglishCertificate.drop('không',axis=1,inplace=True)\n",
    "EnglishCertificate.head(5)"
   ]
  },
  {
   "cell_type": "code",
   "execution_count": 16,
   "metadata": {},
   "outputs": [
    {
     "data": {
      "text/html": [
       "<div>\n",
       "<style scoped>\n",
       "    .dataframe tbody tr th:only-of-type {\n",
       "        vertical-align: middle;\n",
       "    }\n",
       "\n",
       "    .dataframe tbody tr th {\n",
       "        vertical-align: top;\n",
       "    }\n",
       "\n",
       "    .dataframe thead th {\n",
       "        text-align: right;\n",
       "    }\n",
       "</style>\n",
       "<table border=\"1\" class=\"dataframe\">\n",
       "  <thead>\n",
       "    <tr style=\"text-align: right;\">\n",
       "      <th></th>\n",
       "      <th>Pass</th>\n",
       "    </tr>\n",
       "  </thead>\n",
       "  <tbody>\n",
       "    <tr>\n",
       "      <th>0</th>\n",
       "      <td>0</td>\n",
       "    </tr>\n",
       "    <tr>\n",
       "      <th>1</th>\n",
       "      <td>1</td>\n",
       "    </tr>\n",
       "    <tr>\n",
       "      <th>2</th>\n",
       "      <td>1</td>\n",
       "    </tr>\n",
       "    <tr>\n",
       "      <th>3</th>\n",
       "      <td>0</td>\n",
       "    </tr>\n",
       "    <tr>\n",
       "      <th>4</th>\n",
       "      <td>1</td>\n",
       "    </tr>\n",
       "  </tbody>\n",
       "</table>\n",
       "</div>"
      ],
      "text/plain": [
       "   Pass\n",
       "0     0\n",
       "1     1\n",
       "2     1\n",
       "3     0\n",
       "4     1"
      ]
     },
     "execution_count": 16,
     "metadata": {},
     "output_type": "execute_result"
    }
   ],
   "source": [
    "InterviewResult = pd.get_dummies(df['Interview Result'],drop_first=True)\n",
    "InterviewResult.head(5)"
   ]
  },
  {
   "cell_type": "code",
   "execution_count": 17,
   "metadata": {},
   "outputs": [],
   "source": [
    "df = pd.concat([df,EnglishCertificate,InterviewResult],axis=1)"
   ]
  },
  {
   "cell_type": "code",
   "execution_count": 18,
   "metadata": {},
   "outputs": [
    {
     "data": {
      "text/html": [
       "<div>\n",
       "<style scoped>\n",
       "    .dataframe tbody tr th:only-of-type {\n",
       "        vertical-align: middle;\n",
       "    }\n",
       "\n",
       "    .dataframe tbody tr th {\n",
       "        vertical-align: top;\n",
       "    }\n",
       "\n",
       "    .dataframe thead th {\n",
       "        text-align: right;\n",
       "    }\n",
       "</style>\n",
       "<table border=\"1\" class=\"dataframe\">\n",
       "  <thead>\n",
       "    <tr style=\"text-align: right;\">\n",
       "      <th></th>\n",
       "      <th>Position</th>\n",
       "      <th>Year of experiences</th>\n",
       "      <th>Education</th>\n",
       "      <th>Number of certificates</th>\n",
       "      <th>Number of Projects</th>\n",
       "      <th>GPA</th>\n",
       "      <th>có</th>\n",
       "      <th>Pass</th>\n",
       "    </tr>\n",
       "  </thead>\n",
       "  <tbody>\n",
       "    <tr>\n",
       "      <th>0</th>\n",
       "      <td>Kĩ thuật viên vận hành thiết bị</td>\n",
       "      <td>1</td>\n",
       "      <td>Đại học Tôn Đức Thắng</td>\n",
       "      <td>0</td>\n",
       "      <td>2</td>\n",
       "      <td>3.743190</td>\n",
       "      <td>1</td>\n",
       "      <td>0</td>\n",
       "    </tr>\n",
       "    <tr>\n",
       "      <th>1</th>\n",
       "      <td>Nhân viên tư vấn dịch vụ</td>\n",
       "      <td>3</td>\n",
       "      <td>Đại học Công nghệ thông tin</td>\n",
       "      <td>4</td>\n",
       "      <td>4</td>\n",
       "      <td>2.607947</td>\n",
       "      <td>1</td>\n",
       "      <td>1</td>\n",
       "    </tr>\n",
       "    <tr>\n",
       "      <th>2</th>\n",
       "      <td>Kĩ thuật viên vận hành thiết bị</td>\n",
       "      <td>5</td>\n",
       "      <td>Đại học Đồng Nai</td>\n",
       "      <td>1</td>\n",
       "      <td>6</td>\n",
       "      <td>2.624993</td>\n",
       "      <td>1</td>\n",
       "      <td>1</td>\n",
       "    </tr>\n",
       "    <tr>\n",
       "      <th>3</th>\n",
       "      <td>IT Helpdesk</td>\n",
       "      <td>0</td>\n",
       "      <td>Đại học HUTECH</td>\n",
       "      <td>1</td>\n",
       "      <td>0</td>\n",
       "      <td>2.686618</td>\n",
       "      <td>1</td>\n",
       "      <td>0</td>\n",
       "    </tr>\n",
       "    <tr>\n",
       "      <th>4</th>\n",
       "      <td>Chuyên viên phân tích dữ liệu</td>\n",
       "      <td>4</td>\n",
       "      <td>Đại học GTVT</td>\n",
       "      <td>4</td>\n",
       "      <td>5</td>\n",
       "      <td>2.775918</td>\n",
       "      <td>0</td>\n",
       "      <td>1</td>\n",
       "    </tr>\n",
       "  </tbody>\n",
       "</table>\n",
       "</div>"
      ],
      "text/plain": [
       "                          Position  Year of experiences  \\\n",
       "0  Kĩ thuật viên vận hành thiết bị                    1   \n",
       "1         Nhân viên tư vấn dịch vụ                    3   \n",
       "2  Kĩ thuật viên vận hành thiết bị                    5   \n",
       "3                      IT Helpdesk                    0   \n",
       "4    Chuyên viên phân tích dữ liệu                    4   \n",
       "\n",
       "                     Education  Number of certificates  Number of Projects  \\\n",
       "0        Đại học Tôn Đức Thắng                       0                   2   \n",
       "1  Đại học Công nghệ thông tin                       4                   4   \n",
       "2             Đại học Đồng Nai                       1                   6   \n",
       "3               Đại học HUTECH                       1                   0   \n",
       "4                 Đại học GTVT                       4                   5   \n",
       "\n",
       "        GPA  có   Pass  \n",
       "0  3.743190    1     0  \n",
       "1  2.607947    1     1  \n",
       "2  2.624993    1     1  \n",
       "3  2.686618    1     0  \n",
       "4  2.775918    0     1  "
      ]
     },
     "execution_count": 18,
     "metadata": {},
     "output_type": "execute_result"
    }
   ],
   "source": [
    "df.drop(['TOEIC/IELTS','Interview Result'],axis=1,inplace=True)\n",
    "df.head(5)"
   ]
  },
  {
   "cell_type": "code",
   "execution_count": 19,
   "metadata": {},
   "outputs": [],
   "source": [
    "def markLabel_Position(cols):\n",
    "    Position = cols\n",
    "    if Position == 'Designer':\n",
    "        return 0\n",
    "    if Position == 'Lập trình viên Frontend Website':\n",
    "        return 1\n",
    "    if Position == 'Lập trình viên Backend Website':\n",
    "        return 2\n",
    "    if Position == 'Lập trình viên ứng dụng di động':\n",
    "        return 3\n",
    "    if Position == 'IT Helpdesk':\n",
    "        return 4\n",
    "    if Position == 'IT Support':\n",
    "        return 5\n",
    "    if Position == 'Kĩ thuật viên bảo trì':\n",
    "        return 6\n",
    "    if Position == 'Kĩ thuật viên hạ tầng mạng':\n",
    "        return 7\n",
    "    if Position == 'Kĩ thuật viên an ninh mạng':\n",
    "        return 8\n",
    "    if Position == 'Kĩ thuật viên an toàn thông tin':\n",
    "        return 9\n",
    "    if Position == 'Chuyên viên quản trị cơ sở dữ liệu':\n",
    "        return 10\n",
    "    if Position == 'Chuyên viên phân tích dữ liệu':\n",
    "        return 11\n",
    "    if Position == 'Chuyên viên phân tích hệ thống':\n",
    "        return 12\n",
    "    if Position == 'Chuyên viên hỗ trợ người dùng':\n",
    "        return 13\n",
    "    if Position == 'Chuyên viên quản lý dự án':\n",
    "        return 14\n",
    "    if Position == 'Chuyên viên triển khai dự án':\n",
    "        return 15\n",
    "    if Position == 'Kĩ thuật viên vận hành thiết bị':\n",
    "        return 16\n",
    "    if Position == 'Kĩ thuật viên kiểm thử phần mềm':\n",
    "        return 17\n",
    "    if Position == 'Chuyên viên SEO':\n",
    "        return 18\n",
    "    if Position == 'Nhân viên Marketing Online':\n",
    "        return 19\n",
    "    if Position == 'Nhân viên Marketing Media':\n",
    "        return 20\n",
    "    if Position == 'Nhân viên Content Marketing':\n",
    "        return 21\n",
    "    if Position == 'Chuyên viên chăm sóc khách hàng':\n",
    "        return 22\n",
    "    if Position == 'Nhân viên bán hàng':\n",
    "        return 23\n",
    "    if Position == 'Nhân viên tư vấn dịch vụ':\n",
    "        return 24\n",
    "    if Position == 'Nhân viên văn phòng':\n",
    "        return 25\n",
    "    if Position == 'Nhân viên tổng đài dịch vụ':\n",
    "        return 26\n",
    "    if Position == 'Nhân viên lễ tân':\n",
    "        return 27\n",
    "    if Position == 'Biên dịch viên':\n",
    "        return 28\n",
    "    if Position == 'Nhân viên nhân sự':\n",
    "        return 29"
   ]
  },
  {
   "cell_type": "code",
   "execution_count": 20,
   "metadata": {},
   "outputs": [],
   "source": [
    "def markLabel_Education(cols):\n",
    "    Education = cols\n",
    "    if Education == 'Đại học Bách Khoa':\n",
    "        return 0\n",
    "    if Education == 'Đại học Công nghiệp':\n",
    "        return 1\n",
    "    if Education == 'Đại học Công nghệ thông tin':\n",
    "        return 2\n",
    "    if Education == 'Đại học Khoa học Tự nhiên':\n",
    "        return 3\n",
    "    if Education == 'Đại học GTVT':\n",
    "        return 4\n",
    "    if Education == 'Đại học Mở':\n",
    "        return 5\n",
    "    if Education == 'Đại học HUTECH':\n",
    "        return 6\n",
    "    if Education == 'Đại học ngoại ngữ - tin học':\n",
    "        return 7\n",
    "    if Education == 'Đại học sư phạm kĩ thuật':\n",
    "        return 8\n",
    "    if Education == 'Đại học Ngoại thương':\n",
    "        return 9\n",
    "    if Education == 'Đại học Nông lâm':\n",
    "        return 10\n",
    "    if Education == 'Đại học Hoa sen':\n",
    "        return 11\n",
    "    if Education == 'Đại học Hồng Bàng':\n",
    "        return 12\n",
    "    if Education == 'Đại học Tôn Đức Thắng':\n",
    "        return 13\n",
    "    if Education == 'Đại học Trần Đại Nghĩa':\n",
    "        return 14\n",
    "    if Education == 'Đại học Văn Lang':\n",
    "        return 15\n",
    "    if Education == 'Đại học Nguyễn Tất Thành':\n",
    "        return 16\n",
    "    if Education == 'Đại học Văn Hiến':\n",
    "        return 17\n",
    "    if Education == 'Đại học Quốc tế Sài Gòn':\n",
    "        return 18\n",
    "    if Education == 'Đại học Đồng Nai':\n",
    "        return 19"
   ]
  },
  {
   "cell_type": "code",
   "execution_count": 21,
   "metadata": {},
   "outputs": [],
   "source": [
    "df['Position']=df['Position'].apply(markLabel_Position)"
   ]
  },
  {
   "cell_type": "code",
   "execution_count": 22,
   "metadata": {},
   "outputs": [],
   "source": [
    "df['Education']=df['Education'].apply(markLabel_Education)"
   ]
  },
  {
   "cell_type": "code",
   "execution_count": 23,
   "metadata": {},
   "outputs": [
    {
     "data": {
      "text/html": [
       "<div>\n",
       "<style scoped>\n",
       "    .dataframe tbody tr th:only-of-type {\n",
       "        vertical-align: middle;\n",
       "    }\n",
       "\n",
       "    .dataframe tbody tr th {\n",
       "        vertical-align: top;\n",
       "    }\n",
       "\n",
       "    .dataframe thead th {\n",
       "        text-align: right;\n",
       "    }\n",
       "</style>\n",
       "<table border=\"1\" class=\"dataframe\">\n",
       "  <thead>\n",
       "    <tr style=\"text-align: right;\">\n",
       "      <th></th>\n",
       "      <th>Position</th>\n",
       "      <th>Year of experiences</th>\n",
       "      <th>Education</th>\n",
       "      <th>Number of certificates</th>\n",
       "      <th>Number of Projects</th>\n",
       "      <th>GPA</th>\n",
       "      <th>có</th>\n",
       "      <th>Pass</th>\n",
       "    </tr>\n",
       "  </thead>\n",
       "  <tbody>\n",
       "    <tr>\n",
       "      <th>0</th>\n",
       "      <td>16</td>\n",
       "      <td>1</td>\n",
       "      <td>13</td>\n",
       "      <td>0</td>\n",
       "      <td>2</td>\n",
       "      <td>3.743190</td>\n",
       "      <td>1</td>\n",
       "      <td>0</td>\n",
       "    </tr>\n",
       "    <tr>\n",
       "      <th>1</th>\n",
       "      <td>24</td>\n",
       "      <td>3</td>\n",
       "      <td>2</td>\n",
       "      <td>4</td>\n",
       "      <td>4</td>\n",
       "      <td>2.607947</td>\n",
       "      <td>1</td>\n",
       "      <td>1</td>\n",
       "    </tr>\n",
       "    <tr>\n",
       "      <th>2</th>\n",
       "      <td>16</td>\n",
       "      <td>5</td>\n",
       "      <td>19</td>\n",
       "      <td>1</td>\n",
       "      <td>6</td>\n",
       "      <td>2.624993</td>\n",
       "      <td>1</td>\n",
       "      <td>1</td>\n",
       "    </tr>\n",
       "    <tr>\n",
       "      <th>3</th>\n",
       "      <td>4</td>\n",
       "      <td>0</td>\n",
       "      <td>6</td>\n",
       "      <td>1</td>\n",
       "      <td>0</td>\n",
       "      <td>2.686618</td>\n",
       "      <td>1</td>\n",
       "      <td>0</td>\n",
       "    </tr>\n",
       "    <tr>\n",
       "      <th>4</th>\n",
       "      <td>11</td>\n",
       "      <td>4</td>\n",
       "      <td>4</td>\n",
       "      <td>4</td>\n",
       "      <td>5</td>\n",
       "      <td>2.775918</td>\n",
       "      <td>0</td>\n",
       "      <td>1</td>\n",
       "    </tr>\n",
       "  </tbody>\n",
       "</table>\n",
       "</div>"
      ],
      "text/plain": [
       "   Position  Year of experiences  Education  Number of certificates  \\\n",
       "0        16                    1         13                       0   \n",
       "1        24                    3          2                       4   \n",
       "2        16                    5         19                       1   \n",
       "3         4                    0          6                       1   \n",
       "4        11                    4          4                       4   \n",
       "\n",
       "   Number of Projects       GPA  có   Pass  \n",
       "0                   2  3.743190    1     0  \n",
       "1                   4  2.607947    1     1  \n",
       "2                   6  2.624993    1     1  \n",
       "3                   0  2.686618    1     0  \n",
       "4                   5  2.775918    0     1  "
      ]
     },
     "execution_count": 23,
     "metadata": {},
     "output_type": "execute_result"
    }
   ],
   "source": [
    "df.head(5)"
   ]
  },
  {
   "cell_type": "code",
   "execution_count": 24,
   "metadata": {},
   "outputs": [],
   "source": [
    "X = df.drop('Pass',axis=1)\n",
    "y = df['Pass']"
   ]
  },
  {
   "cell_type": "code",
   "execution_count": 25,
   "metadata": {},
   "outputs": [],
   "source": [
    "from sklearn.model_selection import train_test_split"
   ]
  },
  {
   "cell_type": "code",
   "execution_count": 26,
   "metadata": {},
   "outputs": [],
   "source": [
    "X_train, X_test, y_train, y_test = train_test_split(X, y, test_size=0.33, random_state=101)"
   ]
  },
  {
   "cell_type": "code",
   "execution_count": 27,
   "metadata": {},
   "outputs": [],
   "source": [
    "from sklearn.linear_model import LogisticRegression"
   ]
  },
  {
   "cell_type": "code",
   "execution_count": 28,
   "metadata": {},
   "outputs": [],
   "source": [
    "logmodel = LogisticRegression(solver='lbfgs',multi_class='auto')"
   ]
  },
  {
   "cell_type": "code",
   "execution_count": 29,
   "metadata": {},
   "outputs": [
    {
     "data": {
      "text/plain": [
       "LogisticRegression(C=1.0, class_weight=None, dual=False, fit_intercept=True,\n",
       "          intercept_scaling=1, max_iter=100, multi_class='auto',\n",
       "          n_jobs=None, penalty='l2', random_state=None, solver='lbfgs',\n",
       "          tol=0.0001, verbose=0, warm_start=False)"
      ]
     },
     "execution_count": 29,
     "metadata": {},
     "output_type": "execute_result"
    }
   ],
   "source": [
    "logmodel.fit(X_train,y_train)"
   ]
  },
  {
   "cell_type": "code",
   "execution_count": 30,
   "metadata": {},
   "outputs": [],
   "source": [
    "predictions = logmodel.predict(X_test)"
   ]
  },
  {
   "cell_type": "code",
   "execution_count": 31,
   "metadata": {},
   "outputs": [
    {
     "name": "stdout",
     "output_type": "stream",
     "text": [
      "[1 1 1 ... 0 1 1]\n"
     ]
    }
   ],
   "source": [
    "print(predictions)"
   ]
  },
  {
   "cell_type": "code",
   "execution_count": 32,
   "metadata": {},
   "outputs": [],
   "source": [
    "from sklearn.metrics import classification_report"
   ]
  },
  {
   "cell_type": "code",
   "execution_count": 33,
   "metadata": {},
   "outputs": [
    {
     "name": "stdout",
     "output_type": "stream",
     "text": [
      "              precision    recall  f1-score   support\n",
      "\n",
      "           0       0.93      0.90      0.92      3433\n",
      "           1       0.95      0.96      0.96      6469\n",
      "\n",
      "   micro avg       0.94      0.94      0.94      9902\n",
      "   macro avg       0.94      0.93      0.94      9902\n",
      "weighted avg       0.94      0.94      0.94      9902\n",
      "\n"
     ]
    }
   ],
   "source": [
    "print(classification_report(y_test,predictions))"
   ]
  },
  {
   "cell_type": "code",
   "execution_count": 34,
   "metadata": {},
   "outputs": [],
   "source": [
    "from sklearn.metrics import confusion_matrix"
   ]
  },
  {
   "cell_type": "code",
   "execution_count": 35,
   "metadata": {},
   "outputs": [
    {
     "data": {
      "text/plain": [
       "array([[3103,  330],\n",
       "       [ 236, 6233]], dtype=int64)"
      ]
     },
     "execution_count": 35,
     "metadata": {},
     "output_type": "execute_result"
    }
   ],
   "source": [
    "confusion_matrix(y_test,predictions)"
   ]
  },
  {
   "cell_type": "code",
   "execution_count": 36,
   "metadata": {},
   "outputs": [
    {
     "name": "stdout",
     "output_type": "stream",
     "text": [
      "Logistic Regression\n",
      "Accuracy is  94.28398303373055\n"
     ]
    }
   ],
   "source": [
    "from sklearn.metrics import accuracy_score\n",
    "print (\"Logistic Regression\\nAccuracy is \", accuracy_score(y_test,predictions)*100 )"
   ]
  },
  {
   "cell_type": "code",
   "execution_count": null,
   "metadata": {},
   "outputs": [],
   "source": [
    "import pickle"
   ]
  },
  {
   "cell_type": "code",
   "execution_count": null,
   "metadata": {},
   "outputs": [],
   "source": [
    "pickle.dump(logmodel, open(\"C:\\\\Users\\\\HELLO\\\\Desktop\\\\Final_Project\\\\Logistic Regression Model\\\\LogisticRegressionModel.pkl\",\"wb\"))"
   ]
  }
 ],
 "metadata": {
  "kernelspec": {
   "display_name": "Python 3",
   "language": "python",
   "name": "python3"
  },
  "language_info": {
   "codemirror_mode": {
    "name": "ipython",
    "version": 3
   },
   "file_extension": ".py",
   "mimetype": "text/x-python",
   "name": "python",
   "nbconvert_exporter": "python",
   "pygments_lexer": "ipython3",
   "version": "3.7.3"
  }
 },
 "nbformat": 4,
 "nbformat_minor": 2
}
