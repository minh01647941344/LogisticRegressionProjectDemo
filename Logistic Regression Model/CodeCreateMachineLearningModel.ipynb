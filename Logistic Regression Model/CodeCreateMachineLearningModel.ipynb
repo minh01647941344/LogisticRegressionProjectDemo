{
 "cells": [
  {
   "cell_type": "code",
   "execution_count": null,
   "metadata": {},
   "outputs": [],
   "source": [
    "import pandas as pd\n",
    "import numpy as np"
   ]
  },
  {
   "cell_type": "code",
   "execution_count": null,
   "metadata": {},
   "outputs": [],
   "source": [
    "import matplotlib.pyplot as plt\n",
    "import seaborn as sns\n",
    "%matplotlib inline"
   ]
  },
  {
   "cell_type": "code",
   "execution_count": null,
   "metadata": {},
   "outputs": [],
   "source": [
    "file_errors_location = 'C:\\\\Users\\\\HELLO\\\\Downloads\\\\dataset_infoCV_values_xv.xlsx'\n",
    "df = pd.read_excel(file_errors_location)"
   ]
  },
  {
   "cell_type": "code",
   "execution_count": null,
   "metadata": {},
   "outputs": [],
   "source": [
    "sns.set_style('whitegrid')\n",
    "df.head(2)"
   ]
  },
  {
   "cell_type": "code",
   "execution_count": null,
   "metadata": {},
   "outputs": [],
   "source": [
    "sns.countplot(data=df,x='Interview Result',hue='GPA')\n",
    "plt.legend(bbox_to_anchor=(1.05, 1), loc=2, borderaxespad=0.)"
   ]
  },
  {
   "cell_type": "code",
   "execution_count": null,
   "metadata": {},
   "outputs": [],
   "source": [
    "df.drop(['Full Name','Birthday','Address','Phone','Position','Year of experiences','Education','Number of Projects','Unnamed: 12'],axis=1,inplace=True)\n",
    "df.head(2)"
   ]
  },
  {
   "cell_type": "code",
   "execution_count": null,
   "metadata": {},
   "outputs": [],
   "source": [
    "sns.factorplot(y='Interview Result', data=df.drop('Interview Result',axis=1), kind='bar')\n",
    "plt.legend(bbox_to_anchor=(1.05, 1), loc=2, borderaxespad=0.)"
   ]
  },
  {
   "cell_type": "code",
   "execution_count": null,
   "metadata": {},
   "outputs": [],
   "source": [
    "sns.barplot(x='GPA',y='Interview Result',data=df)"
   ]
  },
  {
   "cell_type": "code",
   "execution_count": null,
   "metadata": {},
   "outputs": [],
   "source": [
    "EnglishCertificate = pd.get_dummies(df['TOEIC/IELTS'])\n",
    "EnglishCertificate.drop('không',axis=1,inplace=True)\n",
    "EnglishCertificate.head(5)"
   ]
  },
  {
   "cell_type": "code",
   "execution_count": null,
   "metadata": {},
   "outputs": [],
   "source": [
    "InterviewResult = pd.get_dummies(df['Interview Result'],drop_first=True)\n",
    "InterviewResult.head(5)"
   ]
  },
  {
   "cell_type": "code",
   "execution_count": null,
   "metadata": {},
   "outputs": [],
   "source": [
    "df = pd.concat([df,EnglishCertificate,InterviewResult],axis=1)"
   ]
  },
  {
   "cell_type": "code",
   "execution_count": null,
   "metadata": {},
   "outputs": [],
   "source": [
    "df.drop(['TOEIC/IELTS','Interview Result'],axis=1,inplace=True)\n",
    "df.head(5)"
   ]
  },
  {
   "cell_type": "code",
   "execution_count": null,
   "metadata": {},
   "outputs": [],
   "source": [
    "def markLabel_Position(cols):\n",
    "    Position = cols\n",
    "    if Position == 'Designer':\n",
    "        return 0\n",
    "    if Position == 'Lập trình viên Frontend Website':\n",
    "        return 1\n",
    "    if Position == 'Lập trình viên Backend Website':\n",
    "        return 2\n",
    "    if Position == 'Lập trình viên ứng dụng di động':\n",
    "        return 3\n",
    "    if Position == 'IT Helpdesk':\n",
    "        return 4\n",
    "    if Position == 'IT Support':\n",
    "        return 5\n",
    "    if Position == 'Kĩ thuật viên bảo trì':\n",
    "        return 6\n",
    "    if Position == 'Kĩ thuật viên hạ tầng mạng':\n",
    "        return 7\n",
    "    if Position == 'Kĩ thuật viên an ninh mạng':\n",
    "        return 8\n",
    "    if Position == 'Kĩ thuật viên an toàn thông tin':\n",
    "        return 9\n",
    "    if Position == 'Chuyên viên quản trị cơ sở dữ liệu':\n",
    "        return 10\n",
    "    if Position == 'Chuyên viên phân tích dữ liệu':\n",
    "        return 11\n",
    "    if Position == 'Chuyên viên phân tích hệ thống':\n",
    "        return 12\n",
    "    if Position == 'Chuyên viên hỗ trợ người dùng':\n",
    "        return 13\n",
    "    if Position == 'Chuyên viên quản lý dự án':\n",
    "        return 14\n",
    "    if Position == 'Chuyên viên triển khai dự án':\n",
    "        return 15\n",
    "    if Position == 'Kĩ thuật viên vận hành thiết bị':\n",
    "        return 16\n",
    "    if Position == 'Kĩ thuật viên kiểm thử phần mềm':\n",
    "        return 17\n",
    "    if Position == 'Chuyên viên SEO':\n",
    "        return 18\n",
    "    if Position == 'Nhân viên Marketing Online':\n",
    "        return 19\n",
    "    if Position == 'Nhân viên Marketing Media':\n",
    "        return 20\n",
    "    if Position == 'Nhân viên Content Marketing':\n",
    "        return 21\n",
    "    if Position == 'Chuyên viên chăm sóc khách hàng':\n",
    "        return 22\n",
    "    if Position == 'Nhân viên bán hàng':\n",
    "        return 23\n",
    "    if Position == 'Nhân viên tư vấn dịch vụ':\n",
    "        return 24\n",
    "    if Position == 'Nhân viên văn phòng':\n",
    "        return 25\n",
    "    if Position == 'Nhân viên tổng đài dịch vụ':\n",
    "        return 26\n",
    "    if Position == 'Nhân viên lễ tân':\n",
    "        return 27\n",
    "    if Position == 'Biên dịch viên':\n",
    "        return 28\n",
    "    if Position == 'Nhân viên nhân sự':\n",
    "        return 29"
   ]
  },
  {
   "cell_type": "code",
   "execution_count": null,
   "metadata": {},
   "outputs": [],
   "source": [
    "def markLabel_Education(cols):\n",
    "    Education = cols\n",
    "    if Education == 'Đại học Bách Khoa':\n",
    "        return 0\n",
    "    if Education == 'Đại học Công nghiệp':\n",
    "        return 1\n",
    "    if Education == 'Đại học Công nghệ thông tin':\n",
    "        return 2\n",
    "    if Education == 'Đại học Khoa học Tự nhiên':\n",
    "        return 3\n",
    "    if Education == 'Đại học GTVT':\n",
    "        return 4\n",
    "    if Education == 'Đại học Mở':\n",
    "        return 5\n",
    "    if Education == 'Đại học HUTECH':\n",
    "        return 6\n",
    "    if Education == 'Đại học ngoại ngữ - tin học':\n",
    "        return 7\n",
    "    if Education == 'Đại học sư phạm kĩ thuật':\n",
    "        return 8\n",
    "    if Education == 'Đại học Ngoại thương':\n",
    "        return 9\n",
    "    if Education == 'Đại học Nông lâm':\n",
    "        return 10\n",
    "    if Education == 'Đại học Hoa sen':\n",
    "        return 11\n",
    "    if Education == 'Đại học Hồng Bàng':\n",
    "        return 12\n",
    "    if Education == 'Đại học Tôn Đức Thắng':\n",
    "        return 13\n",
    "    if Education == 'Đại học Trần Đại Nghĩa':\n",
    "        return 14\n",
    "    if Education == 'Đại học Văn Lang':\n",
    "        return 15\n",
    "    if Education == 'Đại học Nguyễn Tất Thành':\n",
    "        return 16\n",
    "    if Education == 'Đại học Văn Hiến':\n",
    "        return 17\n",
    "    if Education == 'Đại học Quốc tế Sài Gòn':\n",
    "        return 18\n",
    "    if Education == 'Đại học Đồng Nai':\n",
    "        return 19"
   ]
  },
  {
   "cell_type": "code",
   "execution_count": null,
   "metadata": {},
   "outputs": [],
   "source": [
    "df['Position']=df['Position'].apply(markLabel_Position)"
   ]
  },
  {
   "cell_type": "code",
   "execution_count": null,
   "metadata": {},
   "outputs": [],
   "source": [
    "df['Education']=df['Education'].apply(markLabel_Education)"
   ]
  },
  {
   "cell_type": "code",
   "execution_count": null,
   "metadata": {},
   "outputs": [],
   "source": [
    "df.head(5)"
   ]
  },
  {
   "cell_type": "code",
   "execution_count": null,
   "metadata": {},
   "outputs": [],
   "source": [
    "df.drop(['Full Name','Birthday','Address','Phone'],axis=1,inplace=True)"
   ]
  },
  {
   "cell_type": "code",
   "execution_count": null,
   "metadata": {},
   "outputs": [],
   "source": [
    "df.head(5)"
   ]
  },
  {
   "cell_type": "code",
   "execution_count": null,
   "metadata": {},
   "outputs": [],
   "source": [
    "X = df.drop('Pass',axis=1)\n",
    "y = df['Pass']"
   ]
  },
  {
   "cell_type": "code",
   "execution_count": null,
   "metadata": {},
   "outputs": [],
   "source": [
    "from sklearn.model_selection import train_test_split"
   ]
  },
  {
   "cell_type": "code",
   "execution_count": null,
   "metadata": {},
   "outputs": [],
   "source": [
    "X_train, X_test, y_train, y_test = train_test_split(X, y, test_size=0.33, random_state=101)"
   ]
  },
  {
   "cell_type": "code",
   "execution_count": null,
   "metadata": {},
   "outputs": [],
   "source": [
    "from sklearn.linear_model import LogisticRegression"
   ]
  },
  {
   "cell_type": "code",
   "execution_count": null,
   "metadata": {},
   "outputs": [],
   "source": [
    "logmodel = LogisticRegression(solver='lbfgs',multi_class='auto')"
   ]
  },
  {
   "cell_type": "code",
   "execution_count": null,
   "metadata": {},
   "outputs": [],
   "source": [
    "logmodel.fit(X_train,y_train)"
   ]
  },
  {
   "cell_type": "code",
   "execution_count": null,
   "metadata": {},
   "outputs": [],
   "source": [
    "predictions = logmodel.predict(X_test)"
   ]
  },
  {
   "cell_type": "code",
   "execution_count": null,
   "metadata": {},
   "outputs": [],
   "source": [
    "from sklearn.metrics import classification_report"
   ]
  },
  {
   "cell_type": "code",
   "execution_count": null,
   "metadata": {},
   "outputs": [],
   "source": [
    "print(classification_report(y_test,predictions))"
   ]
  },
  {
   "cell_type": "code",
   "execution_count": null,
   "metadata": {},
   "outputs": [],
   "source": [
    "from sklearn.metrics import confusion_matrix"
   ]
  },
  {
   "cell_type": "code",
   "execution_count": null,
   "metadata": {},
   "outputs": [],
   "source": [
    "confusion_matrix(y_test,predictions)"
   ]
  },
  {
   "cell_type": "code",
   "execution_count": null,
   "metadata": {},
   "outputs": [],
   "source": [
    "from sklearn.metrics import accuracy_score\n",
    "print (\"Logistic Regression\\nAccuracy is \", accuracy_score(y_test,predictions)*100 )"
   ]
  },
  {
   "cell_type": "code",
   "execution_count": null,
   "metadata": {},
   "outputs": [],
   "source": [
    "import pickle"
   ]
  },
  {
   "cell_type": "code",
   "execution_count": null,
   "metadata": {},
   "outputs": [],
   "source": [
    "pickle.dump(logmodel, open(\"C:\\\\Users\\\\HELLO\\\\Desktop\\\\Final_Project\\\\Logistic Regression Model\\\\LogisticRegressionModel.pkl\",\"wb\"))"
   ]
  },
  {
   "cell_type": "code",
   "execution_count": null,
   "metadata": {},
   "outputs": [],
   "source": [
    "df.info()"
   ]
  },
  {
   "cell_type": "code",
   "execution_count": null,
   "metadata": {},
   "outputs": [],
   "source": []
  }
 ],
 "metadata": {
  "kernelspec": {
   "display_name": "Python 3",
   "language": "python",
   "name": "python3"
  },
  "language_info": {
   "codemirror_mode": {
    "name": "ipython",
    "version": 3
   },
   "file_extension": ".py",
   "mimetype": "text/x-python",
   "name": "python",
   "nbconvert_exporter": "python",
   "pygments_lexer": "ipython3",
   "version": "3.7.3"
  }
 },
 "nbformat": 4,
 "nbformat_minor": 2
}
